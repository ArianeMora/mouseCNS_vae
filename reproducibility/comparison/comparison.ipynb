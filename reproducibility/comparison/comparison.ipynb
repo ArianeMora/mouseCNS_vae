{
 "cells": [
  {
   "cell_type": "markdown",
   "id": "dd153a41",
   "metadata": {},
   "source": [
    "## Benchmarking methods\n",
    "\n",
    "Here we benchmark separability of different methods using silouhette score. It should be noted there are limitations, namely, using annotations is currently standard practice, however, it doesn't necessariliy correspond to a biological ground truth (currently we don't have one!) Second methods with perform DR well dependent on dataset, some algoriths are better at modelling different systems better (Koch et al, 2021; Heiser & Lau, 2020) (e.g. discrete data or discrete clusters of data are better with UMAP and tSNE, however, PHATE and PCA are better for continuous ones - VAEs come under this catagory).\n",
    "\n",
    "### A note on datasets and performance:\n",
    "\n",
    "https://www.sciencedirect.com/science/article/pii/S2211124720305258\n",
    "\n",
    "Heiser & Lau, 2020 *\"Finally, a careful look at additional synthetic and real-world data confirms that behavior of dimensionality reduction methods is primarily driven by the input cell distance distribution that is modality and dataset specific\"*\n",
    "\n",
    "\n",
    "https://academic.oup.com/bib/article/22/6/bbab304/6347204\n",
    "\n",
    "Koch et al 2021: *\"Furthermore, IVMs can successfully be used as an unsupervised method to predict an optimal clustering of distinct cell types. Our results suggest that it may be worth researchers considering alternate dimensionality reduction methods depending on the desired result. Methods such as LDA or PHATE, despite their relative obscurity in scRNA-seq analysis pipelines, are promising alternatives to traditionally used or recommended methods of cell type differentiation; however, if preservation of global structure is a priority, linear methods such as GRP or PCA are better candidates.\"*\n"
   ]
  },
  {
   "cell_type": "code",
   "execution_count": 1,
   "id": "c75fa825",
   "metadata": {},
   "outputs": [
    {
     "name": "stdout",
     "output_type": "stream",
     "text": [
      "comparison.py\n"
     ]
    }
   ],
   "source": [
    "import os\n",
    "import pandas as pd\n",
    "# Example used to generate seeds (note these were kept static for reproducibilty sake :) )\n",
    "#import random\n",
    "#rand_seeds = random.sample(range(0,100), 30)\n",
    "#print(rand_seeds)\n",
    "\n",
    "# Files have the following structure\n",
    "#'caff_6_94.csv', caff means run on the consistntly affected dataset with 3 nodes and a seed of 94\n",
    "# 'runtime_3_14.csv', runtime keeps track of the runtime for the methods (both sig and caff)\n",
    "# 'sig_3_35.csv',  significantly affected dataset \n",
    "files = os.listdir('output/')\n",
    "caff_3 = []\n",
    "sig_3 = []\n",
    "caff_6 = []\n",
    "sig_6 = []\n",
    "runtime = pd.DataFrame()\n",
    "for f in files:\n",
    "    if 'caff' in f:\n",
    "        df = pd.read_csv(f'output/{f}')\n",
    "        if '_3_' in f:\n",
    "            caff_3.append(df)\n",
    "        else:\n",
    "            caff_6.append(df)\n",
    "    elif 'sig' in f:\n",
    "        df = pd.read_csv(f'output/{f}')\n",
    "        if '_3_' in f:\n",
    "            sig_3.append(df)\n",
    "        else:\n",
    "            sig_6.append(df)\n",
    "    elif 'runtime' in f:\n",
    "        df = pd.read_csv(f'output/{f}')\n",
    "        runtime = pd.concat([runtime, df])\n",
    "    else:\n",
    "        print(f)\n",
    "        "
   ]
  },
  {
   "cell_type": "code",
   "execution_count": 2,
   "id": "6c08dfa6",
   "metadata": {},
   "outputs": [
    {
     "data": {
      "text/html": [
       "<div>\n",
       "<style scoped>\n",
       "    .dataframe tbody tr th:only-of-type {\n",
       "        vertical-align: middle;\n",
       "    }\n",
       "\n",
       "    .dataframe tbody tr th {\n",
       "        vertical-align: top;\n",
       "    }\n",
       "\n",
       "    .dataframe thead th {\n",
       "        text-align: right;\n",
       "    }\n",
       "</style>\n",
       "<table border=\"1\" class=\"dataframe\">\n",
       "  <thead>\n",
       "    <tr style=\"text-align: right;\">\n",
       "      <th></th>\n",
       "      <th>Tools</th>\n",
       "      <th>Runtime</th>\n",
       "      <th>Dataset</th>\n",
       "      <th>Nodes</th>\n",
       "    </tr>\n",
       "  </thead>\n",
       "  <tbody>\n",
       "    <tr>\n",
       "      <th>0</th>\n",
       "      <td>PHATE</td>\n",
       "      <td>189.461462</td>\n",
       "      <td>consistently affected</td>\n",
       "      <td>3</td>\n",
       "    </tr>\n",
       "    <tr>\n",
       "      <th>1</th>\n",
       "      <td>UMAP</td>\n",
       "      <td>124.508325</td>\n",
       "      <td>consistently affected</td>\n",
       "      <td>3</td>\n",
       "    </tr>\n",
       "    <tr>\n",
       "      <th>2</th>\n",
       "      <td>PCA</td>\n",
       "      <td>2.572048</td>\n",
       "      <td>consistently affected</td>\n",
       "      <td>3</td>\n",
       "    </tr>\n",
       "    <tr>\n",
       "      <th>3</th>\n",
       "      <td>Deep VAE</td>\n",
       "      <td>121.532797</td>\n",
       "      <td>consistently affected</td>\n",
       "      <td>3</td>\n",
       "    </tr>\n",
       "    <tr>\n",
       "      <th>4</th>\n",
       "      <td>Shallow VAE</td>\n",
       "      <td>162.713693</td>\n",
       "      <td>consistently affected</td>\n",
       "      <td>3</td>\n",
       "    </tr>\n",
       "    <tr>\n",
       "      <th>...</th>\n",
       "      <td>...</td>\n",
       "      <td>...</td>\n",
       "      <td>...</td>\n",
       "      <td>...</td>\n",
       "    </tr>\n",
       "    <tr>\n",
       "      <th>0</th>\n",
       "      <td>PHATE</td>\n",
       "      <td>1869.555967</td>\n",
       "      <td>Significantly affected</td>\n",
       "      <td>6</td>\n",
       "    </tr>\n",
       "    <tr>\n",
       "      <th>1</th>\n",
       "      <td>UMAP</td>\n",
       "      <td>134.949979</td>\n",
       "      <td>Significantly affected</td>\n",
       "      <td>6</td>\n",
       "    </tr>\n",
       "    <tr>\n",
       "      <th>2</th>\n",
       "      <td>PCA</td>\n",
       "      <td>0.790117</td>\n",
       "      <td>Significantly affected</td>\n",
       "      <td>6</td>\n",
       "    </tr>\n",
       "    <tr>\n",
       "      <th>3</th>\n",
       "      <td>Deep VAE</td>\n",
       "      <td>113.809467</td>\n",
       "      <td>Significantly affected</td>\n",
       "      <td>6</td>\n",
       "    </tr>\n",
       "    <tr>\n",
       "      <th>4</th>\n",
       "      <td>Shallow VAE</td>\n",
       "      <td>82.225739</td>\n",
       "      <td>Significantly affected</td>\n",
       "      <td>6</td>\n",
       "    </tr>\n",
       "  </tbody>\n",
       "</table>\n",
       "<p>340 rows × 4 columns</p>\n",
       "</div>"
      ],
      "text/plain": [
       "          Tools      Runtime                 Dataset  Nodes\n",
       "0         PHATE   189.461462   consistently affected      3\n",
       "1          UMAP   124.508325   consistently affected      3\n",
       "2           PCA     2.572048   consistently affected      3\n",
       "3      Deep VAE   121.532797   consistently affected      3\n",
       "4   Shallow VAE   162.713693   consistently affected      3\n",
       "..          ...          ...                     ...    ...\n",
       "0         PHATE  1869.555967  Significantly affected      6\n",
       "1          UMAP   134.949979  Significantly affected      6\n",
       "2           PCA     0.790117  Significantly affected      6\n",
       "3      Deep VAE   113.809467  Significantly affected      6\n",
       "4   Shallow VAE    82.225739  Significantly affected      6\n",
       "\n",
       "[340 rows x 4 columns]"
      ]
     },
     "execution_count": 2,
     "metadata": {},
     "output_type": "execute_result"
    }
   ],
   "source": [
    "runtime"
   ]
  },
  {
   "cell_type": "markdown",
   "id": "14078b12",
   "metadata": {},
   "source": [
    "## Make box plots for each of the following:\n",
    "\n",
    "To do this, we need to first read in the gene sets. Gene sets were downloaded from AMIGo2 by searching for specific terms. Namely, selecting the organism to be **mus musculus** for each of the searches, 1) prolifereation, then selection of the \"direct annotation\" **positve regulation of cell population proliferation** (547)\tpositive regulation of cell population proliferation (GO:0008284) , and . 2) spinal cord development (GO:0021510) 3) hindbrain development (GO:0030902), 4) midbrain development (GO:0030901), 5) forebrain development (GO:0030900). I selected then the \"Download\" function, and downloaded the \"Gene/product (bioentity_label)\".\n",
    "\n",
    "\n",
    "1) Consistently affected datasets 1 for 3 nodes and 1 for 6 nodes  \n",
    "2) As above for significantly affected datasets  \n",
    "3) Plots for runtime.  \n",
    "\n"
   ]
  },
  {
   "cell_type": "code",
   "execution_count": 3,
   "id": "1aad3cb9",
   "metadata": {},
   "outputs": [],
   "source": [
    "from scipy import stats\n",
    "from sciviso import *\n",
    "from sciutil import SciUtil\n",
    "import pandas as pd\n",
    "import numpy as np\n",
    "\n",
    "gene_id = 'entrezgene_id'\n",
    "gene_name = 'external_gene_name'\n",
    "\n",
    "sc_df = pd.read_csv('../../data/input/supps/GO/GO_SPINAL_CORD_DEVELOPMENT_1111.csv')\n",
    "mb_df = pd.read_csv('../../data/input/supps/GO/GO_MIDBRAIN_DEVELOPMENT_1111.csv')\n",
    "hb_df = pd.read_csv('../../data/input/supps/GO/GO_HINDBRAIN_DEVELOPMENT_1111.csv')\n",
    "fb_df = pd.read_csv('../../data/input/supps/GO/GO_FOREBRAIN_DEVELOPMENT_1111.csv')\n",
    "prolif_df = pd.read_csv('../../data/input/supps/GO/GO_POSTIVE_REG_PROLIF.csv')\n",
    "\n",
    "sc_go_genes = sc_df.values[:,0]\n",
    "hb_go_genes = hb_df.values[:,0]\n",
    "mb_go_genes = mb_df.values[:,0]\n",
    "\n",
    "fb_go_genes = fb_df.values[:,0]\n",
    "prolif_go_genes = prolif_df.values[:,0]\n",
    "\n",
    "# Make sure there are no overlapping genes\n",
    "sc_go = [g for g in sc_go_genes if g not in hb_go_genes and g not in mb_go_genes and g not in fb_go_genes and g not in prolif_go_genes]\n",
    "hb_go = [g for g in hb_go_genes if g not in sc_go_genes and g not in mb_go_genes and g not in fb_go_genes and g not in prolif_go_genes]\n",
    "mb_go = [g for g in mb_go_genes if g not in hb_go_genes and g not in sc_go_genes and g not in fb_go_genes and g not in prolif_go_genes]\n",
    "fb_go = [g for g in fb_go_genes if g not in hb_go_genes and g not in mb_go_genes and g not in sc_go_genes and g not in prolif_go_genes]\n",
    "prolif_go = [g for g in prolif_go_genes if g not in hb_go_genes and g not in mb_go_genes and g not in sc_go_genes and g not in fb_go_genes]\n",
    "sc_go = list(set(sc_go))\n",
    "hb_go = list(set(hb_go))\n",
    "mb_go = list(set(mb_go))\n",
    "fb_go = list(set(fb_go))\n",
    "prolif_go = list(set(prolif_go))\n",
    "\n",
    "def get_idxs(genes, g_id):\n",
    "    grp1_idxs = []\n",
    "    i = 0\n",
    "    for g in df[g_id].values:\n",
    "        if g in genes:\n",
    "            grp1_idxs.append(i)\n",
    "        i += 1\n",
    "    return grp1_idxs\n",
    "\n",
    "# Get indicies for each, just to make it quicker for the comparisons\n",
    "sc_idxs = get_idxs(sc_go, gene_name)\n",
    "fb_idxs = get_idxs(fb_go, gene_name)\n",
    "mb_idxs = get_idxs(mb_go, gene_name)\n",
    "hb_idxs = get_idxs(hb_go, gene_name)\n",
    "prolif_idxs = get_idxs(prolif_go, gene_name)"
   ]
  },
  {
   "cell_type": "code",
   "execution_count": 19,
   "id": "593c0ca9",
   "metadata": {},
   "outputs": [
    {
     "name": "stderr",
     "output_type": "stream",
     "text": [
      "/Users/ariane/opt/miniconda3/envs/clean_ml/lib/python3.6/site-packages/seaborn/categorical.py:1296: UserWarning: 15.0% of the points cannot be placed; you may want to decrease the size of the markers or use stripplot.\n",
      "  warnings.warn(msg, UserWarning)\n",
      "/Users/ariane/opt/miniconda3/envs/clean_ml/lib/python3.6/site-packages/seaborn/categorical.py:1296: UserWarning: 50.0% of the points cannot be placed; you may want to decrease the size of the markers or use stripplot.\n",
      "  warnings.warn(msg, UserWarning)\n",
      "/Users/ariane/opt/miniconda3/envs/clean_ml/lib/python3.6/site-packages/seaborn/categorical.py:1296: UserWarning: 85.0% of the points cannot be placed; you may want to decrease the size of the markers or use stripplot.\n",
      "  warnings.warn(msg, UserWarning)\n",
      "/Users/ariane/opt/miniconda3/envs/clean_ml/lib/python3.6/site-packages/seaborn/categorical.py:1296: UserWarning: 55.0% of the points cannot be placed; you may want to decrease the size of the markers or use stripplot.\n",
      "  warnings.warn(msg, UserWarning)\n",
      "/Users/ariane/opt/miniconda3/envs/clean_ml/lib/python3.6/site-packages/seaborn/categorical.py:1296: UserWarning: 70.0% of the points cannot be placed; you may want to decrease the size of the markers or use stripplot.\n",
      "  warnings.warn(msg, UserWarning)\n",
      "No handles with labels found to put in legend.\n"
     ]
    },
    {
     "name": "stdout",
     "output_type": "stream",
     "text": [
      "p-value annotation legend:\n",
      "ns: 5.00e-02 < p <= 1.00e+00\n",
      "*: 1.00e-02 < p <= 5.00e-02\n",
      "**: 1.00e-03 < p <= 1.00e-02\n",
      "***: 1.00e-04 < p <= 1.00e-03\n",
      "****: p <= 1.00e-04\n",
      "\n",
      "VAE_deep v.s. VAE_lin: Mann-Whitney-Wilcoxon test two-sided with Bonferroni correction, P_val=5.187e-04 U_stat=3.440e+02\n",
      "VAE_deep v.s. PCA: Mann-Whitney-Wilcoxon test two-sided with Bonferroni correction, P_val=1.000e+00 U_stat=1.500e+01\n",
      "VAE_deep v.s. PHATE: Mann-Whitney-Wilcoxon test two-sided with Bonferroni correction, P_val=3.170e-07 U_stat=4.000e+02\n",
      "VAE_deep v.s. tSNE: Mann-Whitney-Wilcoxon test two-sided with Bonferroni correction, P_val=1.235e-03 U_stat=3.360e+02\n",
      "VAE_deep v.s. UMAP: Mann-Whitney-Wilcoxon test two-sided with Bonferroni correction, P_val=3.398e-07 U_stat=4.000e+02\n"
     ]
    },
    {
     "data": {
      "image/png": "[encoded data removed]",
      "text/plain": [
       "<Figure size 144x144 with 1 Axes>"
      ]
     },
     "metadata": {},
     "output_type": "display_data"
    }
   ],
   "source": [
    "from sciviso import Boxplot\n",
    "from sklearn.metrics import silhouette_samples, silhouette_score\n",
    "import matplotlib.pyplot as plt\n",
    "methods = ['VAE_deep', 'VAE_lin', 'PCA', 'PHATE', 'tSNE', 'UMAP']\n",
    "num_nodes = 3\n",
    "labels = []\n",
    "values = []\n",
    "box_colours = ['orange', 'orange', 'lightgrey', 'lightgrey', 'lightgrey', 'lightgrey']\n",
    "box_pairs = []\n",
    "for m in methods:\n",
    "    if m != 'VAE_deep':\n",
    "        box_pairs.append(['VAE_deep', m])\n",
    "\n",
    "for method in methods:\n",
    "    cols = [f'{method}_{i}' for i in range(0, num_nodes)]\n",
    "    # Get the data for that method\n",
    "    for caff in caff_3:\n",
    "        # Do this for each dataframe\n",
    "        data = caff[cols].values\n",
    "        X = data[sc_idxs + fb_idxs + mb_idxs + hb_idxs + prolif_idxs]\n",
    "        cluster_labels = ['SC'] * len(sc_idxs) + ['FB'] * len(fb_idxs) + ['MB'] * len(mb_idxs) + ['HB'] * len(hb_idxs) + ['Pro-pro'] * len(prolif_idxs)\n",
    "\n",
    "        silhouette_avg = silhouette_score(X, cluster_labels)\n",
    "        labels.append(method)\n",
    "        values.append(silhouette_avg)\n",
    "        if method == 'PCA':\n",
    "            break # Since they are just repeats only keep 1\n",
    "    \n",
    "v_df = pd.DataFrame()\n",
    "v_df['x'] = labels\n",
    "v_df['y'] = values\n",
    "boxplot = Boxplot(v_df, \"x\", \"y\", figsize=(2,2),title=f'Avg silhouette GO 3 caff', \n",
    "                  box_pairs=box_pairs, box_colors=box_colours, \n",
    "                  order=methods,\n",
    "                  add_stats=True, add_dots=True)\n",
    "boxplot.plot()\n",
    "plt.savefig('caff_3.svg')\n",
    "plt.show()"
   ]
  },
  {
   "cell_type": "code",
   "execution_count": 20,
   "id": "d9510d8a",
   "metadata": {},
   "outputs": [
    {
     "name": "stderr",
     "output_type": "stream",
     "text": [
      "/Users/ariane/opt/miniconda3/envs/clean_ml/lib/python3.6/site-packages/seaborn/categorical.py:1296: UserWarning: 20.0% of the points cannot be placed; you may want to decrease the size of the markers or use stripplot.\n",
      "  warnings.warn(msg, UserWarning)\n",
      "/Users/ariane/opt/miniconda3/envs/clean_ml/lib/python3.6/site-packages/seaborn/categorical.py:1296: UserWarning: 40.0% of the points cannot be placed; you may want to decrease the size of the markers or use stripplot.\n",
      "  warnings.warn(msg, UserWarning)\n",
      "/Users/ariane/opt/miniconda3/envs/clean_ml/lib/python3.6/site-packages/seaborn/categorical.py:1296: UserWarning: 85.0% of the points cannot be placed; you may want to decrease the size of the markers or use stripplot.\n",
      "  warnings.warn(msg, UserWarning)\n",
      "/Users/ariane/opt/miniconda3/envs/clean_ml/lib/python3.6/site-packages/seaborn/categorical.py:1296: UserWarning: 65.0% of the points cannot be placed; you may want to decrease the size of the markers or use stripplot.\n",
      "  warnings.warn(msg, UserWarning)\n",
      "/Users/ariane/opt/miniconda3/envs/clean_ml/lib/python3.6/site-packages/seaborn/categorical.py:1296: UserWarning: 80.0% of the points cannot be placed; you may want to decrease the size of the markers or use stripplot.\n",
      "  warnings.warn(msg, UserWarning)\n",
      "No handles with labels found to put in legend.\n"
     ]
    },
    {
     "name": "stdout",
     "output_type": "stream",
     "text": [
      "p-value annotation legend:\n",
      "ns: 5.00e-02 < p <= 1.00e+00\n",
      "*: 1.00e-02 < p <= 5.00e-02\n",
      "**: 1.00e-03 < p <= 1.00e-02\n",
      "***: 1.00e-04 < p <= 1.00e-03\n",
      "****: p <= 1.00e-04\n",
      "\n",
      "VAE_deep v.s. VAE_lin: Mann-Whitney-Wilcoxon test two-sided with Bonferroni correction, P_val=1.462e-04 U_stat=4.500e+01\n",
      "VAE_deep v.s. PCA: Mann-Whitney-Wilcoxon test two-sided with Bonferroni correction, P_val=1.000e+00 U_stat=1.700e+01\n",
      "VAE_deep v.s. PHATE: Mann-Whitney-Wilcoxon test two-sided with Bonferroni correction, P_val=3.161e-07 U_stat=4.000e+02\n",
      "VAE_deep v.s. tSNE: Mann-Whitney-Wilcoxon test two-sided with Bonferroni correction, P_val=3.398e-07 U_stat=4.000e+02\n",
      "VAE_deep v.s. UMAP: Mann-Whitney-Wilcoxon test two-sided with Bonferroni correction, P_val=3.398e-07 U_stat=4.000e+02\n"
     ]
    },
    {
     "data": {
      "image/png": "[encoded data removed]",
      "text/plain": [
       "<Figure size 144x144 with 1 Axes>"
      ]
     },
     "metadata": {},
     "output_type": "display_data"
    }
   ],
   "source": [
    "\n",
    "num_nodes = 6\n",
    "labels = []\n",
    "values = []\n",
    "\n",
    "for method in methods:\n",
    "    cols = [f'{method}_{i}' for i in range(0, num_nodes)]\n",
    "    # Get the data for that method\n",
    "    for caff in caff_6:\n",
    "        # Do this for each dataframe\n",
    "        data = caff[cols].values\n",
    "        X = data[sc_idxs + fb_idxs + mb_idxs + hb_idxs + prolif_idxs]\n",
    "        cluster_labels = ['SC'] * len(sc_idxs) + ['FB'] * len(fb_idxs) + ['MB'] * len(mb_idxs) + ['HB'] * len(hb_idxs) + ['Pro-pro'] * len(prolif_idxs)\n",
    "\n",
    "        silhouette_avg = silhouette_score(X, cluster_labels)\n",
    "        labels.append(method)\n",
    "        values.append(silhouette_avg)\n",
    "        if method == 'PCA':\n",
    "            break # Since they are just repeats only keep 1\n",
    "    \n",
    "v_df = pd.DataFrame()\n",
    "v_df['x'] = labels\n",
    "v_df['y'] = values\n",
    "boxplot = Boxplot(v_df, \"x\", \"y\", figsize=(2,2),title=f'Avg silhouette GO 6 caff', \n",
    "                  box_pairs=box_pairs, box_colors=box_colours, \n",
    "                  order=methods,\n",
    "                  add_stats=True, add_dots=True)\n",
    "boxplot.plot()\n",
    "plt.savefig('caff_6.svg')\n",
    "plt.show()"
   ]
  },
  {
   "cell_type": "code",
   "execution_count": 21,
   "id": "ff95b80c",
   "metadata": {},
   "outputs": [
    {
     "name": "stderr",
     "output_type": "stream",
     "text": [
      "/Users/ariane/opt/miniconda3/envs/clean_ml/lib/python3.6/site-packages/seaborn/categorical.py:1296: UserWarning: 20.0% of the points cannot be placed; you may want to decrease the size of the markers or use stripplot.\n",
      "  warnings.warn(msg, UserWarning)\n",
      "/Users/ariane/opt/miniconda3/envs/clean_ml/lib/python3.6/site-packages/seaborn/categorical.py:1296: UserWarning: 50.0% of the points cannot be placed; you may want to decrease the size of the markers or use stripplot.\n",
      "  warnings.warn(msg, UserWarning)\n",
      "/Users/ariane/opt/miniconda3/envs/clean_ml/lib/python3.6/site-packages/seaborn/categorical.py:1296: UserWarning: 30.0% of the points cannot be placed; you may want to decrease the size of the markers or use stripplot.\n",
      "  warnings.warn(msg, UserWarning)\n",
      "/Users/ariane/opt/miniconda3/envs/clean_ml/lib/python3.6/site-packages/seaborn/categorical.py:1296: UserWarning: 65.0% of the points cannot be placed; you may want to decrease the size of the markers or use stripplot.\n",
      "  warnings.warn(msg, UserWarning)\n",
      "No handles with labels found to put in legend.\n"
     ]
    },
    {
     "name": "stdout",
     "output_type": "stream",
     "text": [
      "p-value annotation legend:\n",
      "ns: 5.00e-02 < p <= 1.00e+00\n",
      "*: 1.00e-02 < p <= 5.00e-02\n",
      "**: 1.00e-03 < p <= 1.00e-02\n",
      "***: 1.00e-04 < p <= 1.00e-03\n",
      "****: p <= 1.00e-04\n",
      "\n",
      "VAE_deep v.s. VAE_lin: Mann-Whitney-Wilcoxon test two-sided with Bonferroni correction, P_val=3.974e-06 U_stat=1.700e+01\n",
      "VAE_deep v.s. PCA: Mann-Whitney-Wilcoxon test two-sided with Bonferroni correction, P_val=5.834e-01 U_stat=0.000e+00\n",
      "VAE_deep v.s. PHATE: Mann-Whitney-Wilcoxon test two-sided with Bonferroni correction, P_val=1.195e-01 U_stat=1.160e+02\n",
      "VAE_deep v.s. tSNE: Mann-Whitney-Wilcoxon test two-sided with Bonferroni correction, P_val=6.322e-01 U_stat=1.430e+02\n",
      "VAE_deep v.s. UMAP: Mann-Whitney-Wilcoxon test two-sided with Bonferroni correction, P_val=1.969e-06 U_stat=3.880e+02\n"
     ]
    },
    {
     "data": {
      "image/png": "[encoded data removed]",
      "text/plain": [
       "<Figure size 144x144 with 1 Axes>"
      ]
     },
     "metadata": {},
     "output_type": "display_data"
    }
   ],
   "source": [
    "\n",
    "num_nodes = 3\n",
    "labels = []\n",
    "values = []\n",
    "\n",
    "for method in methods:\n",
    "    cols = [f'{method}_{i}' for i in range(0, num_nodes)]\n",
    "    # Get the data for that method\n",
    "    for caff in sig_3:\n",
    "        # Do this for each dataframe\n",
    "        data = caff[cols].values\n",
    "        X = data[sc_idxs + fb_idxs + mb_idxs + hb_idxs + prolif_idxs]\n",
    "        cluster_labels = ['SC'] * len(sc_idxs) + ['FB'] * len(fb_idxs) + ['MB'] * len(mb_idxs) + ['HB'] * len(hb_idxs) + ['Pro-pro'] * len(prolif_idxs)\n",
    "\n",
    "        silhouette_avg = silhouette_score(X, cluster_labels)\n",
    "        labels.append(method)\n",
    "        values.append(silhouette_avg)\n",
    "        if method == 'PCA':\n",
    "                break # Since they are just repeats only keep 1\n",
    "\n",
    "v_df = pd.DataFrame()\n",
    "v_df['x'] = labels\n",
    "v_df['y'] = values\n",
    "boxplot = Boxplot(v_df, \"x\", \"y\", figsize=(2, 2),title=f'Avg silhouette GO 3 Sig', \n",
    "                  box_pairs=box_pairs, box_colors=box_colours, \n",
    "                  order=methods,\n",
    "                  add_stats=True, add_dots=True)\n",
    "boxplot.plot()\n",
    "plt.savefig('sig_3.svg')\n",
    "plt.show()"
   ]
  },
  {
   "cell_type": "code",
   "execution_count": 22,
   "id": "6db6fc17",
   "metadata": {},
   "outputs": [
    {
     "name": "stderr",
     "output_type": "stream",
     "text": [
      "/Users/ariane/opt/miniconda3/envs/clean_ml/lib/python3.6/site-packages/seaborn/categorical.py:1296: UserWarning: 10.0% of the points cannot be placed; you may want to decrease the size of the markers or use stripplot.\n",
      "  warnings.warn(msg, UserWarning)\n",
      "/Users/ariane/opt/miniconda3/envs/clean_ml/lib/python3.6/site-packages/seaborn/categorical.py:1296: UserWarning: 40.0% of the points cannot be placed; you may want to decrease the size of the markers or use stripplot.\n",
      "  warnings.warn(msg, UserWarning)\n",
      "/Users/ariane/opt/miniconda3/envs/clean_ml/lib/python3.6/site-packages/seaborn/categorical.py:1296: UserWarning: 30.0% of the points cannot be placed; you may want to decrease the size of the markers or use stripplot.\n",
      "  warnings.warn(msg, UserWarning)\n",
      "/Users/ariane/opt/miniconda3/envs/clean_ml/lib/python3.6/site-packages/seaborn/categorical.py:1296: UserWarning: 70.0% of the points cannot be placed; you may want to decrease the size of the markers or use stripplot.\n",
      "  warnings.warn(msg, UserWarning)\n",
      "No handles with labels found to put in legend.\n"
     ]
    },
    {
     "name": "stdout",
     "output_type": "stream",
     "text": [
      "p-value annotation legend:\n",
      "ns: 5.00e-02 < p <= 1.00e+00\n",
      "*: 1.00e-02 < p <= 5.00e-02\n",
      "**: 1.00e-03 < p <= 1.00e-02\n",
      "***: 1.00e-04 < p <= 1.00e-03\n",
      "****: p <= 1.00e-04\n",
      "\n",
      "VAE_deep v.s. VAE_lin: Mann-Whitney-Wilcoxon test two-sided with Bonferroni correction, P_val=1.038e-04 U_stat=4.400e+01\n",
      "VAE_deep v.s. PCA: Mann-Whitney-Wilcoxon test two-sided with Bonferroni correction, P_val=1.000e+00 U_stat=5.000e+00\n",
      "VAE_deep v.s. PHATE: Mann-Whitney-Wilcoxon test two-sided with Bonferroni correction, P_val=2.406e-06 U_stat=3.850e+02\n",
      "VAE_deep v.s. UMAP: Mann-Whitney-Wilcoxon test two-sided with Bonferroni correction, P_val=2.718e-07 U_stat=4.000e+02\n"
     ]
    },
    {
     "data": {
      "image/png": "[encoded data removed]",
      "text/plain": [
       "<Figure size 144x144 with 1 Axes>"
      ]
     },
     "metadata": {},
     "output_type": "display_data"
    }
   ],
   "source": [
    "num_nodes = 6\n",
    "labels = []\n",
    "values = []\n",
    "methods = ['VAE_deep', 'VAE_lin', 'PCA', 'PHATE', 'UMAP']\n",
    "box_colours = ['orange', 'orange', 'lightgrey', 'lightgrey', 'lightgrey']\n",
    "box_pairs = []\n",
    "for m in methods:\n",
    "    if m != 'VAE_deep':\n",
    "        box_pairs.append(['VAE_deep', m])\n",
    "\n",
    "for method in methods:\n",
    "    cols = [f'{method}_{i}' for i in range(0, num_nodes)]\n",
    "    # Get the data for that method\n",
    "    for caff in sig_6:\n",
    "        # Do this for each dataframe\n",
    "        data = caff[cols].values\n",
    "        X = data[sc_idxs + fb_idxs + mb_idxs + hb_idxs + prolif_idxs]\n",
    "        cluster_labels = ['SC'] * len(sc_idxs) + ['FB'] * len(fb_idxs) + ['MB'] * len(mb_idxs) + ['HB'] * len(hb_idxs) + ['Pro-pro'] * len(prolif_idxs)\n",
    "\n",
    "        silhouette_avg = silhouette_score(X, cluster_labels)\n",
    "        labels.append(method)\n",
    "        values.append(silhouette_avg)\n",
    "        if method == 'PCA':\n",
    "            break # Since they are just repeats only keep 1\n",
    "    \n",
    "v_df = pd.DataFrame()\n",
    "v_df['x'] = labels\n",
    "v_df['y'] = values\n",
    "boxplot = Boxplot(v_df, \"x\", \"y\", figsize=(2,2),title=f'Avg silhouette GO 6 sig', \n",
    "                  box_pairs=box_pairs, box_colors=box_colours, \n",
    "                  order=methods,\n",
    "                  add_stats=True, add_dots=True)\n",
    "boxplot.plot()\n",
    "plt.savefig('sig_6.svg')\n",
    "plt.show()"
   ]
  },
  {
   "cell_type": "markdown",
   "id": "66b86f3e",
   "metadata": {},
   "source": [
    "### Look at timing"
   ]
  },
  {
   "cell_type": "code",
   "execution_count": 23,
   "id": "c493a5ba",
   "metadata": {},
   "outputs": [
    {
     "name": "stdout",
     "output_type": "stream",
     "text": [
      "p-value annotation legend:\n",
      "*: 1.00e-02 < p <= 5.00e-02\n",
      "**: 1.00e-03 < p <= 1.00e-02\n",
      "***: 1.00e-04 < p <= 1.00e-03\n",
      "****: p <= 1.00e-04\n",
      "\n",
      "Deep VAE v.s. Shallow VAE: Mann-Whitney-Wilcoxon test two-sided with Bonferroni correction, P_val=1.000e+00 U_stat=1.847e+03\n",
      "Deep VAE v.s. PCA: Mann-Whitney-Wilcoxon test two-sided with Bonferroni correction, P_val=1.759e-23 U_stat=3.600e+03\n",
      "Deep VAE v.s. PHATE: Mann-Whitney-Wilcoxon test two-sided with Bonferroni correction, P_val=7.299e-11 U_stat=5.265e+02\n",
      "Deep VAE v.s. tSNE: Mann-Whitney-Wilcoxon test two-sided with Bonferroni correction, P_val=9.084e-17 U_stat=0.000e+00\n",
      "Deep VAE v.s. UMAP: Mann-Whitney-Wilcoxon test two-sided with Bonferroni correction, P_val=3.680e-01 U_stat=2.130e+03\n"
     ]
    },
    {
     "name": "stderr",
     "output_type": "stream",
     "text": [
      "No handles with labels found to put in legend.\n"
     ]
    },
    {
     "data": {
      "image/png": "[encoded data removed]",
      "text/plain": [
       "<Figure size 144x144 with 1 Axes>"
      ]
     },
     "metadata": {},
     "output_type": "display_data"
    }
   ],
   "source": [
    "from sklearn.metrics import silhouette_samples, silhouette_score\n",
    "import matplotlib.pyplot as plt\n",
    "from sciviso import Violinplot\n",
    "\n",
    "methods = ['Deep VAE', 'Shallow VAE', 'PCA', 'PHATE', 'tSNE', 'UMAP']\n",
    "box_colours = ['orange', 'orange', 'lightgrey', 'lightgrey', 'lightgrey', 'lightgrey']\n",
    "box_pairs = []\n",
    "for m in methods:\n",
    "    if m != 'Deep VAE':\n",
    "        box_pairs.append(['Deep VAE', m])\n",
    "        \n",
    "import time\n",
    "import time\n",
    "# Convert to mins, seconds and hours\n",
    "runtime['Hours'] = runtime['Runtime']//3600\n",
    "runtime['Minutes'] = runtime['Runtime']//60\n",
    "runtime['Seconds'] = runtime['Runtime']\n",
    "\n",
    "boxplot = Violinplot(runtime, \"Tools\", \"Minutes\", figsize=(2,2),\n",
    "                  title=f'Runtime', box_pairs=box_pairs, \n",
    "                  order=methods, add_stats=True, add_dots=True)\n",
    "boxplot.palette = box_colours\n",
    "boxplot.plot()\n",
    "plt.savefig('timing.svg')\n",
    "plt.show()"
   ]
  },
  {
   "cell_type": "code",
   "execution_count": null,
   "id": "bd050f34",
   "metadata": {},
   "outputs": [],
   "source": []
  }
 ],
 "metadata": {
  "kernelspec": {
   "display_name": "Python 3",
   "language": "python",
   "name": "python3"
  },
  "language_info": {
   "codemirror_mode": {
    "name": "ipython",
    "version": 3
   },
   "file_extension": ".py",
   "mimetype": "text/x-python",
   "name": "python",
   "nbconvert_exporter": "python",
   "pygments_lexer": "ipython3",
   "version": "3.6.13"
  }
 },
 "nbformat": 4,
 "nbformat_minor": 5
}
