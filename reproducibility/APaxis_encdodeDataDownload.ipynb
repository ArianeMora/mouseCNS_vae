{
 "cells": [
  {
   "cell_type": "markdown",
   "metadata": {
    "collapsed": true,
    "pycharm": {
     "name": "#%% md\n"
    }
   },
   "source": [
    "# Download encode data"
   ]
  },
  {
   "cell_type": "code",
   "execution_count": null,
   "metadata": {
    "pycharm": {
     "name": "#%%\n"
    }
   },
   "outputs": [],
   "source": [
    "# Imports\n",
    "import os\n",
    "import numpy as np\n",
    "import gzip\n",
    "import shutil"
   ]
  },
  {
   "cell_type": "markdown",
   "metadata": {},
   "source": [
    "## Download metadata and file list for histone modification data\n",
    "\n",
    "Choose your data that you want to download. As an example I'll provide the steps I used to get the respective data for the developing mouse brain).\n",
    "\n",
    "1. Go to encode (https://www.encodeproject.org)\n",
    "2. Select `Mouse` button\n",
    "3. Select `biosample type`: tissue\n",
    "4. This will take you to the experiment matrix page (https://www.encodeproject.org/matrix/?type=Experiment&status=released&replicates.library.biosample.donor.organism.scientific_name=Mus+musculus&biosample_ontology.classification=tissue)\n",
    "5. Remove `Transcription` tag\n",
    "6. Nagivate to the `Biosample term name` and choose: `forebrain, hindbrain & midbrain`\n",
    "7. Navigate to `Assay title` & remove `Control ChIP seq`\n",
    "8. Finally, we only want to deal with one data type, so navigate to: `Available file types` and choose: `bed narrowPeak`\n",
    "    \n",
    "You should now have 201 results (or more this was at 14/10/2019).\n",
    "\n",
    "In order to automatically assign informative names (rather than encodes default ENXXX) we want to download both the files and corresponding metadata for the files.\n",
    "\n",
    "You can get the metadata for a filtered data matrix by changing the term `matrix` to report in the URL i.e.\n",
    "\n",
    "https://www.encodeproject.org/matrix/?type=Experiment&status=released&replicates.library.biosample.donor.organism.scientific_name=Mus+musculus&biosample_ontology.classification=tissue&assay_slims%21=Transcription&biosample_ontology.term_name=forebrain&biosample_ontology.term_name=hindbrain&biosample_ontology.term_name=midbrain&biosample_ontology.term_name=midbrain&assay_title%21=Control+ChIP-seq\n",
    "\n",
    "becomes:\n",
    "\n",
    "https://www.encodeproject.org/report/?type=Experiment&status=released&replicates.library.biosample.donor.organism.scientific_name=Mus+musculus&biosample_ontology.classification=tissue&assay_slims%21=Transcription&biosample_ontology.term_name=forebrain&biosample_ontology.term_name=hindbrain&biosample_ontology.term_name=midbrain&biosample_ontology.term_name=midbrain&assay_title%21=Control+ChIP-seq\n",
    "\n",
    "\n",
    "Note after the `?` is the query I was running. Now you can click download once you are on the report page.\n",
    "\n",
    "To get the list of files, go back to the `matrix` link (i.e. the normal one you open when searching encode) and click download.\n",
    "\n",
    "Rename these files to `encode-file-list_{file-explanation}_{date-of-download}` and `encode-experiment-report_file-explanation_{date-of-download}` place them in the `input` folder.\n",
    "\n",
    "Lastly, you need to get the meta data file associated with each of the files that you may download.\n",
    "\n",
    "This is done by copying the header line in the files.txt downloaded file, it will look something like so:\n",
    "```\n",
    " \"https://www.encodeproject.org/metadata/?type=Experiment&status=released&replicates.library.biosample.donor.organism.scientific_name=Mus+musculus&biosample_ontology.classification=tissue&target.label%21=CTCF&target.label%21=POLR2A&target.label%21=EP300&target.label%21=GATA4&target.label%21=H3K79me2&biosample_ontology.term_name=intestine&biosample_ontology.term_name=liver&biosample_ontology.term_name=heart&biosample_ontology.term_name=forebrain&biosample_ontology.term_name=midbrain&biosample_ontology.term_name=hindbrain&biosample_ontology.term_name=limb&biosample_ontology.term_name=embryonic+facial+prominence&biosample_ontology.term_name=neural+tube&biosample_ontology.term_name=lung&biosample_ontology.term_name=kidney&biosample_ontology.term_name=stomach&assay_title=Histone+ChIP-seq&files.file_type=bed+narrowPeak\"\n",
    "```\n",
    "\n",
    "Simply go to terminal and paste:\n",
    "\n",
    "```\n",
    "curl the_header_of_the_file > encode-experiment-meta_file-explanation_{date-of-download}\n",
    "\n",
    "```"
   ]
  },
  {
   "cell_type": "markdown",
   "metadata": {},
   "source": [
    "## Setup folders and filenames\n",
    "\n",
    "Here we just setup the folders and filenames for the data\n",
    "\n"
   ]
  },
  {
   "cell_type": "code",
   "execution_count": null,
   "metadata": {
    "pycharm": {
     "name": "#%%\n"
    }
   },
   "outputs": [],
   "source": [
    "# Directory structure\n",
    "input_dir = '/Users/ariane/Documents/encode/'\n",
    "date_download = '20201007'\n",
    "\n",
    "file_explanations = ['mm10']\n",
    "meta_file_str = 'encode-experiment-meta_'\n",
    "file_list_str = 'encode-file-list_'\n",
    "\n",
    "# Collecting the files we'll be using to download the data & assigning the generic names.\n",
    "file_metas = []\n",
    "file_lists = []\n",
    "for c in file_explanations:\n",
    "    file_metas.append(input_dir + meta_file_str + c + '_' + date_download + '.tsv')\n",
    "    file_lists.append(input_dir + file_list_str + c + '_' + date_download + '.txt')\n",
    "\n",
    "print(file_metas)\n",
    "print(file_lists)"
   ]
  },
  {
   "cell_type": "markdown",
   "metadata": {},
   "source": [
    "## Setup the file parsing\n",
    "\n",
    "Here we have the functions for parsing the meta data file and also the file list.\n",
    "We use `assign_header` to get the regions of interest from the metadata file, this can be edited & will need to be updated if endcode change their internal protocols."
   ]
  },
  {
   "cell_type": "code",
   "execution_count": null,
   "metadata": {},
   "outputs": [],
   "source": [
    "\n",
    "\"\"\"\n",
    "This section aims to pull down the data from ENCODE based on the meta data in the file:\n",
    "\n",
    "metadata-enc3-mm10-histone-tissue-embryo-365-19022019\n",
    "\n",
    "\"\"\"\n",
    "ACCESSION = None      # File accession\n",
    "OUTPUT_TYPE = None    # Output type\n",
    "BIOSAMPLE = None      # Biosample term name\n",
    "TARGET = None         # Experiment target\n",
    "REPLICATES = None     # Biological replicate(s)\n",
    "SIZE = None           # Size\n",
    "URL = None            # File download URL\n",
    "ASSEMBLY = None       # Assembly\n",
    "STATUS = None         # File Status\n",
    "FORMAT = None         # File format\n",
    "ASSAY = None          # Assay\n",
    "\n",
    "\n",
    "def assign_header(hdr_line):\n",
    "    for i in range(0, len(hdr_line)):\n",
    "        print(hdr_line[i])\n",
    "        if hdr_line[i] == 'File accession' or hdr_line[i] == 'Accession':\n",
    "            ACCESSION = i\n",
    "        if hdr_line[i] == 'Output type':\n",
    "            OUTPUT_TYPE = i\n",
    "        if hdr_line[i] == 'Biosample term name':\n",
    "            BIOSAMPLE = i\n",
    "        if hdr_line[i] == 'Experiment target' or hdr_line[i] == 'Target of assay':\n",
    "            TARGET = i\n",
    "        if hdr_line[i] == 'Biological replicate(s)' or 'replicate' in hdr_line[i]:\n",
    "            REPLICATES = i\n",
    "        if hdr_line[i] == 'Size':\n",
    "            SIZE = i\n",
    "        if hdr_line[i] == 'File download URL':\n",
    "            URL = i\n",
    "        if hdr_line[i] == 'Assembly' or 'assembly' in hdr_line[i]:\n",
    "            ASSEMBLY = i\n",
    "        if hdr_line[i] == 'File Status':\n",
    "            STATUS = i\n",
    "        if hdr_line[i] == 'File format':\n",
    "            FORMAT = i\n",
    "        if hdr_line[i] == 'Assay':\n",
    "            ASSAY = i\n",
    "            \n",
    "    return ACCESSION, OUTPUT_TYPE, BIOSAMPLE, TARGET, REPLICATES, SIZE, URL, ASSEMBLY, STATUS, FORMAT, ASSAY\n",
    "            \n",
    "def get_bed_files(metadata_file='metadata-enc3-mm10-histone-tissue-embryo-365-19022019.tsv', reduced_file='reduced-enc3-mm10-histone-tissue-embryo-365-19022019.txt', data_dir='../data/'):\n",
    "    cnt_files = 0\n",
    "    with open(data_dir + reduced_file, 'w+') as output:\n",
    "        with open(input_dir + metadata_file, 'r+') as metadata:\n",
    "            cols = None\n",
    "            for str_line in metadata:\n",
    "                line = str_line.split('\\t')\n",
    "                if not cols:\n",
    "                    cols = line\n",
    "                    ACCESSION, OUTPUT_TYPE, BIOSAMPLE, TARGET, REPLICATES, SIZE, URL, ASSEMBLY, STATUS, FORMAT, ASSAY = assign_header(line)\n",
    "                else:\n",
    "                    num_reps = len(line[REPLICATES].split(','))\n",
    "                    # ATAC seq\n",
    "                    \"\"\"\n",
    "                    if line[FORMAT] == 'bigWig' and line[OUTPUT_TYPE] == 'signal p-value' and line[ASSEMBLY] == 'mm10' and line[STATUS] == 'released':\n",
    "                        output.write(line[URL] + '\\n')\n",
    "                        print('BIGWIG', line[0])\n",
    "                        cnt_files += 1\n",
    "                    \"\"\"\n",
    "\n",
    "                    # Histones & TFs\n",
    "                    if line[FORMAT] == 'bed narrowPeak' and line[ASSEMBLY] == 'mm10' and line[STATUS] == 'released' and (line[OUTPUT_TYPE] == 'replicated peaks' or line[OUTPUT_TYPE] == 'optimal IDR thresholded peaks') :\n",
    "                        output.write(line[URL] + '\\n')\n",
    "                        print('BED', line[0])\n",
    "                        cnt_files += 1\n",
    "\n",
    "    print(cnt_files)\n",
    "\n",
    "\n",
    "def unzip_rename_beds(data_dir='../data/reduced/', metadata_file='experiment-metadata-enc3-mm10-histone-tissue-embryo-365-19022019.tsv'):\n",
    "    files = os.listdir(data_dir)\n",
    "    # Want the metadata to choose the correct filename, make a dict on accession\n",
    "    meta_dict = dict()\n",
    "    with open(input_dir + metadata_file, 'r+') as metadata:\n",
    "        cols = None\n",
    "        \n",
    "        for str_line in metadata:\n",
    "            line = str_line.split('\\t')\n",
    "            if not cols:\n",
    "                cols = line\n",
    "                ACCESSION, OUTPUT_TYPE, BIOSAMPLE, TARGET, REPLICATES, SIZE, URL, ASSEMBLY, STATUS, FORMAT, ASSAY = assign_header(line)\n",
    "            else:\n",
    "                meta_dict[line[ACCESSION]] = line\n",
    "\n",
    "    for filename in files:\n",
    "        # Check if a GZ file\n",
    "        if filename[-2:] == 'gz':\n",
    "            with gzip.open(data_dir + filename, 'rb') as f_in:\n",
    "                accession = filename.split('.')[0]\n",
    "                target = meta_dict[accession][TARGET]\n",
    "                if len(target) < 2:\n",
    "                    target = 'NA'\n",
    "                new_filename = meta_dict[accession][BIOSAMPLE].replace(' ', '-') + '_' + meta_dict[accession][ASSAY] + '_' + target + '_' + accession + '.bed'\n",
    "                new_filename = new_filename.replace(' ', '-')\n",
    "                print(new_filename)\n",
    "                \n",
    "                with open(f'{data_dir}{new_filename}', 'wb') as f_out:\n",
    "                    shutil.copyfileobj(f_in, f_out)\n",
    "        elif filename.split('.')[-1] == 'bigWig':\n",
    "            accession = filename.split('.')[0]\n",
    "            target = meta_dict[accession][TARGET]\n",
    "            if len(target) < 2:\n",
    "                target = 'NA'\n",
    "            new_filename = meta_dict[accession][BIOSAMPLE].replace(' ', '-') + '_' + meta_dict[accession][ASSAY] + '_' + target + '_' + accession + '.bed'\n",
    "            print(new_filename)\n",
    "            #os.system(\"sortBed -i ../data/downloads/\" + f + \" > ../data/input/bed/\" + f)\n",
    "def read_bed(filename):\n",
    "    with open(filename, 'r+') as filein:\n",
    "        count = 0\n",
    "        for line in filein:\n",
    "            count += 1\n",
    "        print(count)\n",
    "\n",
    "def add_metadata(data_dir='../data/processed/', experiments_file='experiment-metadata-enc3-mm10-histone-tissue-embryo-365-19022019.tsv'):\n",
    "    \"\"\"\n",
    "    Downloaded the metadata after the initial naming. Here we are adding extra information based on the experiment\n",
    "    i.e. the age of the sample.\n",
    "    (not attached to the actual file this needed to be downloaded using the report function).\n",
    "\n",
    "    Need to get the file list from the experiment and match it with the accession numbers in the other file list\n",
    "    \"\"\"\n",
    "    FILES = 12          #/files/ENCFF861WQV/,/files/ENCFF566NFW/\n",
    "    ACCESSION = 1       # Accession in experiment file\n",
    "    BIOSAMPLE = 7       # Biosample\n",
    "    LIFE_STAGE = 19     # Age Life stage\n",
    "    AGE = 20            # Biosample age\n",
    "    TARGET = 4          # Target Label\n",
    "    ASSAY_NAME = 2      # Assay name\n",
    "    files = os.listdir(data_dir)\n",
    "    file_accession_to_experiment = dict()\n",
    "    experiments_dict = dict()\n",
    "    count = 0\n",
    "    with open(experiments_file, 'r+') as experiments:\n",
    "        for line in experiments:\n",
    "            if count < 2:\n",
    "                count += 1\n",
    "            else:\n",
    "                line = line.split('\\t')\n",
    "                \n",
    "                experiment_files = line[FILES].replace('files', '').replace('/', '').split(',')\n",
    "                for file_accession in experiment_files:\n",
    "                    file_accession_to_experiment[file_accession] = line[ACCESSION]\n",
    "                target = line[TARGET]\n",
    "                if len(target) < 2:\n",
    "                    target = 'DNase'\n",
    "            \n",
    "                new_label =  line[BIOSAMPLE] + '_' + line[AGE] + '_' + line[LIFE_STAGE] + '_' + target + '_' + line[ASSAY_NAME] + '_'\n",
    "                experiments_dict[line[ACCESSION]] = new_label.replace(' ', '-')\n",
    "\n",
    "\n",
    "    for filename in files:\n",
    "        if filename[-3:] == 'bed':\n",
    "            accession = filename.split('_')[-1].split('.')[0]\n",
    "            new_filename = experiments_dict[file_accession_to_experiment[accession]] + accession + '.bed'\n",
    "            print(filename, '-->', new_filename)\n",
    "            os.rename(data_dir + filename, data_dir + new_filename)"
   ]
  },
  {
   "cell_type": "markdown",
   "metadata": {},
   "source": [
    "## Download the files\n",
    "\n",
    "This section will take a long time depending on how many files you are downloading, here we download all the encode files that have two replicates and are bed files."
   ]
  },
  {
   "cell_type": "code",
   "execution_count": null,
   "metadata": {
    "pycharm": {
     "name": "#%%\n"
    }
   },
   "outputs": [],
   "source": [
    "# First we only want the files that are pooled (i.e. we don't want each individual sample and to have to do the processing)\n",
    "for i in range(0, len(file_metas)):\n",
    "    get_bed_files(file_metas[i].split('/')[-1], 'reduced-list_' + file_metas[i].split('/')[-1], input_dir)\n",
    "    \n",
    "    # Run the command to download the files from the files list\n",
    "    for file_list in file_lists:\n",
    "        print(\"xargs -L 1 curl -O -L < \" + 'downloads/' + 'reduced-list_' + file_metas[i].split('/')[-1])\n",
    "        "
   ]
  },
  {
   "cell_type": "markdown",
   "metadata": {},
   "source": [
    "## Unzip the bed files\n",
    "\n",
    "Here we unzip the bed files and change their name so that it is informative i.e. contains the tissue and assay type as well as mark."
   ]
  },
  {
   "cell_type": "code",
   "execution_count": null,
   "metadata": {
    "pycharm": {
     "name": "#%%\n"
    }
   },
   "outputs": [],
   "source": [
    "# Unzip the beds and rename them\n",
    "for i in range(0, len(file_metas)):\n",
    "    unzip_rename_beds(f'{data_dir}downloads/', file_metas[i].split('/')[-1])\n",
    "    "
   ]
  },
  {
   "cell_type": "markdown",
   "metadata": {},
   "source": [
    "## Add metadata\n",
    "\n",
    "I was interested in the age of the sample, so here we add in the age.\n",
    "\n",
    "This is done by the report file downloaded in the first bit."
   ]
  },
  {
   "cell_type": "code",
   "execution_count": null,
   "metadata": {
    "pycharm": {
     "name": "#%%\n"
    }
   },
   "outputs": [],
   "source": [
    "# Add any extra metadata about the file (i.e. the age of the sample)\n",
    "\n",
    "meta_data_file_str = input_dir + 'encode-experiment-report_mm10_20201007.tsv'\n",
    "add_metadata(f'{data_dir}processed/', meta_data_file_str)\n"
   ]
  },
  {
   "cell_type": "markdown",
   "metadata": {},
   "source": [
    "## Sort bed files\n",
    "\n",
    "Here just for convention we sort the bed files."
   ]
  },
  {
   "cell_type": "code",
   "execution_count": null,
   "metadata": {
    "pycharm": {
     "name": "#%%\n"
    }
   },
   "outputs": [],
   "source": [
    "# Sort the bed files\n",
    "bed_tools_dir = ''\n",
    "\n",
    "files = os.listdir(f'{data_dir}processed/')\n",
    "\n",
    "for f in files:\n",
    "    os.system(f'{bed_tools_dir}bedtools2/bin/./sortBed -i {data_dir}processed/{f} > {data_dir}sorted_bed/{f}')\n",
    "    "
   ]
  },
  {
   "cell_type": "markdown",
   "metadata": {},
   "source": [
    "## EXTRA: Download for ATAC seq data\n",
    "\n",
    "Choose your data that you want to download. As an example I'll provide the steps I used to get the respective data for the developing mouse brain).\n",
    "\n",
    "1. Go to encode (https://www.encodeproject.org)\n",
    "2. Select `Mouse` button\n",
    "3. Select `biosample type`: tissue\n",
    "4. This will take you to the experiment matrix page (https://www.encodeproject.org/matrix/?type=Experiment&status=released&replicates.library.biosample.donor.organism.scientific_name=Mus+musculus&biosample_ontology.classification=tissue)\n",
    "5. Select `ATAC-seq` in Assay title\n",
    "6. Nagivate to the `Biosample term name` and choose: `forebrain, hindbrain & midbrain`\n",
    "7. Navigate to `Assay title` & remove `Control ChIP seq`\n",
    "8. Finally, we only want to deal with one data type, so navigate to: `Available file types` and choose: `bigWig`\n",
    "    \n",
    "You should now have 16 results (or more this was at 05/11/2019).\n",
    "\n",
    "In order to automatically assign informative names (rather than encodes default ENXXX) we want to download both the files and corresponding metadata for the files.\n",
    "\n",
    "First click the download button (and then the download in the popup).\n",
    "\n",
    "1. Open the downloaded file, the first line contains the metadata file.\n",
    "2. Download this file, (either curl or download this from the browser)\n",
    "\n",
    "Rename these files to `encode-file-list_{file-explanation}_{date-of-download}` and `encode-experiment-report_file-explanation_{date-of-download}` place them in the `input` folder.\n",
    "\n",
    "My download links:\n",
    "\n",
    "Filtered data matrix: \n",
    "https://www.encodeproject.org/search/?type=Experiment&status=released&replicates.library.biosample.donor.organism.scientific_name=Mus+musculus&biosample_ontology.classification=tissue&biosample_ontology.term_name=forebrain&biosample_ontology.term_name=midbrain&biosample_ontology.term_name=hindbrain&assay_title=ATAC-seq&files.file_type=bigWig\n",
    "Tsv download for metadata:\n",
    "https://www.encodeproject.org/metadata/type%3DExperiment%26status%3Dreleased%26replicates.library.biosample.donor.organism.scientific_name%3DMus%2Bmusculus%26biosample_ontology.classification%3Dtissue%26biosample_ontology.term_name%3Dforebrain%26biosample_ontology.term_name%3Dmidbrain%26biosample_ontology.term_name%3Dhindbrain%26assay_title%3DATAC-seq%26files.file_type%3DbigWig/metadata.tsv\n"
   ]
  },
  {
   "cell_type": "code",
   "execution_count": null,
   "metadata": {
    "pycharm": {
     "name": "#%%\n"
    }
   },
   "outputs": [],
   "source": [
    "# Directory structure\n",
    "input_dir = '../data/input/'\n",
    "date_download = '20191105'\n",
    "\n",
    "file_explanations = ['mouse-brain_ATAC']\n",
    "meta_file_str = 'encode-experiment-metadata_'\n",
    "file_list_str = 'encode-experiment-report_'\n",
    "\n",
    "# Collecting the files we'll be using to download the data & assigning the generic names.\n",
    "file_metas = []\n",
    "file_lists = []\n",
    "for c in file_explanations:\n",
    "    file_metas.append(input_dir + meta_file_str + c + '_' + date_download + '.tsv')\n",
    "    file_lists.append(input_dir + file_list_str + c + '_' + date_download + '.txt')\n",
    "\n",
    "print(file_metas)\n",
    "print(file_lists)\n"
   ]
  },
  {
   "cell_type": "code",
   "execution_count": null,
   "metadata": {
    "pycharm": {
     "name": "#%%\n"
    }
   },
   "outputs": [],
   "source": [
    "# # For teh ATAC files, we actually don't have the replicates merged so we are just going to download all the files.\n",
    "# https://www.encodeproject.org/files/ENCFF339WWB/@@download/ENCFF339WWB.bigWig\n",
    "\n",
    "for i in range(0, len(file_metas)):\n",
    "    get_bed_files(file_metas[i].split('/')[-1], 'reduced-list_' + file_metas[i].split('/')[-1], input_dir)    \n",
    "    # Run the command to download the files from the files list\n",
    "    for file_list in file_lists:\n",
    "        print('reduced-list_' + file_metas[i].split('/')[-1])\n",
    "        os.system(\"xargs -L 1 curl -O -L < \" + input_dir + 'reduced-list_' + file_metas[i].split('/')[-1])"
   ]
  },
  {
   "cell_type": "code",
   "execution_count": null,
   "metadata": {
    "pycharm": {
     "name": "#%%\n"
    }
   },
   "outputs": [],
   "source": [
    "# Unzip the beds and rename them\n",
    "\n",
    "for i in range(0, len(file_metas)):\n",
    "    unzip_rename_beds('../data/input/', 'reduced-list_encode-experiment-metadata_mouse-brain_ATAC_mouse-brain_20191105.tsv')"
   ]
  },
  {
   "cell_type": "code",
   "execution_count": null,
   "metadata": {
    "pycharm": {
     "name": "#%%\n"
    }
   },
   "outputs": [],
   "source": []
  }
 ],
 "metadata": {
  "kernelspec": {
   "display_name": "Python 3",
   "language": "python",
   "name": "python3"
  },
  "language_info": {
   "codemirror_mode": {
    "name": "ipython",
    "version": 3
   },
   "file_extension": ".py",
   "mimetype": "text/x-python",
   "name": "python",
   "nbconvert_exporter": "python",
   "pygments_lexer": "ipython3",
   "version": "3.8.2"
  },
  "pycharm": {
   "stem_cell": {
    "cell_type": "raw",
    "metadata": {
     "collapsed": false
    },
    "source": []
   }
  }
 },
 "nbformat": 4,
 "nbformat_minor": 1
}
